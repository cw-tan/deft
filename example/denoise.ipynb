{
 "cells": [
  {
   "cell_type": "markdown",
   "metadata": {},
   "source": [
    "# Convolution-based Denoising with Fourier transforms"
   ]
  },
  {
   "cell_type": "code",
   "execution_count": null,
   "metadata": {},
   "outputs": [],
   "source": [
    "import numpy as np\n",
    "import matplotlib.pyplot as plt\n",
    "\n",
    "import os\n",
    "import sys\n",
    "sys.path.append(os.path.join(os.getcwd(), '../build/'))\n",
    "import pydeft as deft\n",
    "\n",
    "plt.rc('font', family='serif')\n",
    "plt.rc('xtick', labelsize='x-small')\n",
    "plt.rc('ytick', labelsize='x-small')"
   ]
  },
  {
   "cell_type": "markdown",
   "metadata": {},
   "source": [
    "Consider a simple cubic lattice (with unit spacing) together with the three-dimensional function\n",
    "\n",
    "$$\n",
    "w(\\mathbf{r}) = \\cos (4\\pi x) ,\n",
    "$$\n",
    "\n",
    "which has the periodicity of the lattice but varies only in the $x$ direction.\n",
    "\n",
    "To demonstrate the use of DEFT for denoising, let us consider adding some noise to this signal in real space. Given the scale of the cosine function, let us add random perturbations from the range $[-0.2,0.2]$."
   ]
  },
  {
   "cell_type": "code",
   "execution_count": null,
   "metadata": {},
   "outputs": [],
   "source": [
    "# create f(r) = cos(4*pi*x) \n",
    "x = np.linspace(0, 1, 100)\n",
    "X,Y,Z = np.meshgrid(x,x,x, indexing='ij')\n",
    "\n",
    "f = np.cos(4*np.pi*X)\n",
    "\n",
    "# add noise\n",
    "noisy_f = f + 0.2*(np.random.rand(x.size,x.size,x.size) - 0.5)\n",
    "\n",
    "fig = plt.figure(figsize=[9,5])\n",
    "plt.plot(x, [f[i,0,0] for i in range(x.size)], color='0.5', ls = 'solid', linewidth = 2)\n",
    "plt.plot(x, [noisy_f[i,0,0] for i in range(x.size)], 'xk')\n",
    "plt.legend(['cos$(4\\pi x)$', 'noisy samples'], loc=(1.02,0.4))\n",
    "plt.tight_layout()\n",
    "plt.show()"
   ]
  },
  {
   "cell_type": "markdown",
   "metadata": {},
   "source": [
    " We can then apply a convolutional filter/low-pass filter in reciprocal space to recover the original function. For this example, we choose a top-hat filter of the form \n",
    "$$\n",
    "F_\\text{top-hat}(\\mathbf{k}) = \\left\\{\n",
    "\\begin{array}{ll}\n",
    "     1 & \\text{for} ~~|\\mathbf{k}|<k_0 \\\\\n",
    "     0 & \\text{otherwise}\\\\\n",
    "\\end{array} \n",
    "\\right. \n",
    "$$\n",
    "\n",
    "This is equivalent to convolving the noisy function with a sinc function in real space."
   ]
  },
  {
   "cell_type": "code",
   "execution_count": null,
   "metadata": {},
   "outputs": [],
   "source": [
    "f_deft = deft.Double3D((x.size,x.size,x.size))\n",
    "f_deft[...] = f\n",
    "f_ft = deft.fourier_transform(f_deft) \n",
    "\n",
    "noisy_f_deft = deft.Double3D((x.size,x.size,x.size))\n",
    "noisy_f_deft[...] = noisy_f\n",
    "f_noisy_ft = deft.fourier_transform(noisy_f_deft)    \n",
    "\n",
    "k = deft.wave_numbers(f_noisy_ft.shape(), deft.Box(np.eye(3)))\n",
    "top_hat_filter = deft.Complex3D(f_noisy_ft.shape())\n",
    "top_hat_filter[...] = np.where(k[...]<25, 1, 0)\n",
    "\n",
    "filtered_f = deft.inverse_fourier_transform(top_hat_filter*f_noisy_ft, noisy_f_deft.shape())\n",
    "\n",
    "print('Mean squared reconstruction error = {:.4g}'.format(np.mean((filtered_f[...]-f)**2)))\n",
    "\n",
    "plt.plot(x, [f[i,0,0] for i in range(x.size)], color='0.5', ls = 'solid', linewidth = 2)\n",
    "plt.plot(x, [filtered_f[i,0,0] for i in range(x.size)], 'ok', markersize=2.5)\n",
    "plt.legend(['cos$(4\\pi x)$', 'denoised samples'], loc=(1.02,0.4))\n",
    "plt.xlabel('$x$-axis [one lattice cell]')\n",
    "plt.tight_layout()\n",
    "plt.show()"
   ]
  }
 ],
 "metadata": {
  "kernelspec": {
   "display_name": "Python 3 (ipykernel)",
   "language": "python",
   "name": "python3"
  },
  "language_info": {
   "codemirror_mode": {
    "name": "ipython",
    "version": 3
   },
   "file_extension": ".py",
   "mimetype": "text/x-python",
   "name": "python",
   "nbconvert_exporter": "python",
   "pygments_lexer": "ipython3",
   "version": "3.8.10"
  }
 },
 "nbformat": 4,
 "nbformat_minor": 2
}
