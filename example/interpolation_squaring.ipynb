{
 "cells": [
  {
   "cell_type": "markdown",
   "metadata": {},
   "source": [
    "# Interpolation for Squaring"
   ]
  },
  {
   "cell_type": "code",
   "execution_count": null,
   "metadata": {},
   "outputs": [],
   "source": [
    "import numpy as np\n",
    "import matplotlib.pyplot as plt\n",
    "\n",
    "import os\n",
    "import sys\n",
    "sys.path.append(os.path.join(os.getcwd(), '../build/'))\n",
    "import pydeft as deft\n",
    "\n",
    "plt.rc('font', family='serif')\n",
    "plt.rc('xtick', labelsize='x-small')\n",
    "plt.rc('ytick', labelsize='x-small')"
   ]
  },
  {
   "cell_type": "markdown",
   "metadata": {},
   "source": [
    "Consider samples of a continuous function\n",
    "\\begin{equation}\n",
    "    w(\\mathbf{r}) = \\cos{p x},\n",
    "\\end{equation}\n",
    "such that we have enough samples to reconstruct the continuous function using Fourier-based interpolations. \n",
    "\n",
    "If we are interested in the quantitiy $w^2$, just squaring the values of the sampled points may not be enough to fully reconstruct the square of the continuous function. This is because larger frequency components have been introduced during the squaring, which might not be adequately described by the sampled points. Hence, the same set of sampled points that could successfully reconstruct $w$ may not adequately reconstruct $w^2$. This can be rectified by first interpolating the sampled points in $w$ before squaring the values on a denser grid. "
   ]
  },
  {
   "cell_type": "code",
   "execution_count": null,
   "metadata": {
    "scrolled": true
   },
   "outputs": [],
   "source": [
    "# create box and data array\n",
    "\n",
    "dense_factor = 11\n",
    "grd_pts = 7\n",
    "dense_grd_pts = grd_pts*dense_factor\n",
    "\n",
    "box_vectors = np.eye(3)\n",
    "box = deft.Box(box_vectors)\n",
    "\n",
    "x_sparse =  np.arange(grd_pts)/grd_pts\n",
    "x_dense =  np.arange(dense_grd_pts)/dense_grd_pts\n",
    "x,y,z = np.meshgrid(x_sparse, np.arange(5)/5, np.arange(5)/5,indexing='ij')\n",
    "p = np.pi*4\n",
    "data = deft.Double3D([grd_pts, 5, 5])\n",
    "data[...] = np.cos(p*x)\n",
    "\n",
    "data_dense = deft.fourier_interpolate(data, [dense_grd_pts, 5, 5])    \n",
    "\n",
    "# font\n",
    "plt.rc('font', size=14)\n",
    "fig = plt.figure(figsize=[9,3.5])\n",
    "plt.plot(x_dense, np.cos(p*x_dense), color='0.5', ls = 'solid', linewidth = 2)\n",
    "plt.plot(x_sparse, data[:,0,0], 'k+', markersize = 18)\n",
    "plt.plot(x_dense, data_dense[:,0,0], 'k.', markersize = 8)\n",
    "plt.legend(['$\\cos(4\\pi x)$', 'sampled points', 'interpolated points'], loc=(1.02,0.25))\n",
    "plt.tight_layout()\n",
    "plt.show()"
   ]
  },
  {
   "cell_type": "code",
   "execution_count": null,
   "metadata": {},
   "outputs": [],
   "source": [
    "sparse_squared = deft.fourier_interpolate(data*data, [dense_grd_pts, 5, 5])        \n",
    "    \n",
    "# plot\n",
    "plt.rc('font', size=14)\n",
    "fig = plt.figure(figsize=[9,3.5])\n",
    "plt.plot(x_dense, np.cos(p*x_dense)**2, color='0.5', ls = 'solid', linewidth = 2)\n",
    "plt.plot(x_dense, data_dense[:,0,0]**2, 'k.', markersize = 8)\n",
    "plt.plot(x_sparse, data[:,0,0]**2, 'k+', markersize = 18)\n",
    "plt.plot(x_dense, sparse_squared[:,0,0], color='0.2', ls = 'dashed', linewidth = 1)\n",
    "plt.set_xlabel('$x$-axis [one lattice cell]')\n",
    "plt.legend(['$\\cos^2(4\\pi x)$', 'interpolated before squaring', 'sampled points squared', 'squared before interpolating'], loc=(1.02,0.25))\n",
    "plt.tight_layout()\n",
    "plt.show()"
   ]
  }
 ],
 "metadata": {
  "kernelspec": {
   "display_name": "Python 3 (ipykernel)",
   "language": "python",
   "name": "python3"
  },
  "language_info": {
   "codemirror_mode": {
    "name": "ipython",
    "version": 3
   },
   "file_extension": ".py",
   "mimetype": "text/x-python",
   "name": "python",
   "nbconvert_exporter": "python",
   "pygments_lexer": "ipython3",
   "version": "3.8.10"
  }
 },
 "nbformat": 4,
 "nbformat_minor": 2
}
