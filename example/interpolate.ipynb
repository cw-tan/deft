{
 "cells": [
  {
   "cell_type": "markdown",
   "metadata": {},
   "source": [
    "# Interpolation with Fourier transforms"
   ]
  },
  {
   "cell_type": "code",
   "execution_count": null,
   "metadata": {},
   "outputs": [],
   "source": [
    "import numpy as np\n",
    "import matplotlib.pyplot as plt\n",
    "import os\n",
    "import sys\n",
    "sys.path.append(os.path.join(os.getcwd(), '../build/'))\n",
    "import pydeft as deft\n",
    "\n",
    "plt.rc('font', family='serif')\n",
    "plt.rc('xtick', labelsize='x-small')\n",
    "plt.rc('ytick', labelsize='x-small')"
   ]
  },
  {
   "cell_type": "markdown",
   "metadata": {},
   "source": [
    "Consider a simple cubic lattice (with unit spacing) together with the three-dimensional function\n",
    "\n",
    "$$\n",
    "w(\\mathbf{r}) = \\cos (4\\pi x) ,\n",
    "$$\n",
    "\n",
    "which has the periodicity of the lattice but varies only in the $x$ direction.\n",
    "\n",
    "Suppose that the analytical form of $w(\\mathbf{r})$ is not known, but that values of $w(\\mathbf{r})$ on a coarse grid _are_ available. With Fourier transforms, one can reconstruct $w(\\mathbf{r})$ _exactly_ based on these discrete samples—and, more importantly, the same is true for nearly any periodic function (with a few caveats).\n",
    "\n",
    "DEFT provides tools for this sort of analysis, as demonstrated by the code below."
   ]
  },
  {
   "cell_type": "code",
   "execution_count": null,
   "metadata": {},
   "outputs": [],
   "source": [
    "shape = (7,7,7)           # for coarse grid\n",
    "shape_dense = (77,77,77)  # for dense grid\n",
    "\n",
    "# create f(r) = cos(4*pi*x) on coarse grid\n",
    "data = deft.Double3D(shape)\n",
    "data.fill(0)\n",
    "for i in range(shape[0]):\n",
    "    data[i,:,:] = np.cos(4.0*np.pi*float(i)/shape[0])\n",
    "\n",
    "# perform interpolation\n",
    "data_dense = deft.fourier_interpolate(data, shape_dense)    \n",
    "\n",
    "# plot\n",
    "x = np.linspace(0,1,500)\n",
    "plt.rc('font', size=14)\n",
    "fig = plt.figure(figsize=[8,3.5])\n",
    "plt.plot(x, np.cos(4.0*np.pi*x), color='0.5', ls = 'solid', linewidth = 2)\n",
    "plt.plot(np.arange(shape[0])/shape[0], data[:,0,0], 'k+', markersize=18)\n",
    "plt.plot(np.arange(shape_dense[0])/shape_dense[0], data_dense[:,0,0], 'k.', markersize=8)\n",
    "plt.xlim([-0.01, 1.01])\n",
    "plt.xlabel('$x$-axis [one lattice cell]')\n",
    "plt.legend(['cos$(4\\pi x)$', 'coarse', 'interpolated'], loc=(1.02,0.4))\n",
    "plt.tight_layout()\n",
    "plt.show()"
   ]
  },
  {
   "cell_type": "markdown",
   "metadata": {},
   "source": [
    "In the plot, the function $w(\\mathbf{r})$ is shown along the $x$-axis of the simple cubic lattice. The + signs are the values of $w(\\mathbf{r})$ on a coarse grid; based on these data, DEFT generates the dotted line with Fourier-transform-driven interpolation."
   ]
  }
 ],
 "metadata": {
  "kernelspec": {
   "display_name": "Python 3 (ipykernel)",
   "language": "python",
   "name": "python3"
  },
  "language_info": {
   "codemirror_mode": {
    "name": "ipython",
    "version": 3
   },
   "file_extension": ".py",
   "mimetype": "text/x-python",
   "name": "python",
   "nbconvert_exporter": "python",
   "pygments_lexer": "ipython3",
   "version": "3.8.10"
  }
 },
 "nbformat": 4,
 "nbformat_minor": 2
}
